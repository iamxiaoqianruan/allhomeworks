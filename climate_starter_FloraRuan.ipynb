{
 "cells": [
  {
   "cell_type": "code",
   "execution_count": 1,
   "metadata": {
    "collapsed": true
   },
   "outputs": [],
   "source": [
    "%matplotlib inline\n",
    "from matplotlib import style\n",
    "style.use('fivethirtyeight')\n",
    "import matplotlib.pyplot as plt\n",
    "import numpy as np\n",
    "import pandas as pd\n",
    "import datetime"
   ]
  },
  {
   "cell_type": "code",
   "execution_count": 2,
   "metadata": {
    "collapsed": true
   },
   "outputs": [],
   "source": [
    "import numpy as np\n",
    "import pandas as pd\n",
    "import datetime"
   ]
  },
  {
   "cell_type": "code",
   "execution_count": 3,
   "metadata": {
    "collapsed": true
   },
   "outputs": [],
   "source": [
    "import datetime"
   ]
  },
  {
   "cell_type": "markdown",
   "metadata": {},
   "source": [
    "# Step 1 - Climate Analysis and Exploration"
   ]
  },
  {
   "cell_type": "code",
   "execution_count": 4,
   "metadata": {},
   "outputs": [],
   "source": [
    "# sqlite3\n",
    "import sqlite3"
   ]
  },
  {
   "cell_type": "code",
   "execution_count": 5,
   "metadata": {},
   "outputs": [],
   "source": [
    "#create connection with hawaii database\n",
    "conn = sqlite3.connect(\"Resources/hawaii.sqlite\")"
   ]
  },
  {
   "cell_type": "code",
   "execution_count": 6,
   "metadata": {},
   "outputs": [],
   "source": [
    "#obtain a cursor - something to loop through via database connection\n",
    "cur = conn.cursor()"
   ]
  },
  {
   "cell_type": "code",
   "execution_count": 7,
   "metadata": {},
   "outputs": [],
   "source": [
    "# sqlite3\n"
   ]
  },
  {
   "cell_type": "code",
   "execution_count": 8,
   "metadata": {},
   "outputs": [
    {
     "name": "stdout",
     "output_type": "stream",
     "text": [
      "('measurement',)\n",
      "('station',)\n"
     ]
    }
   ],
   "source": [
    "#obtain data from cursor via loop - in this case - table names in database file\n",
    "# execute statement via cursor-find table names\n",
    "cur.execute(\"SELECT name FROM sqlite_master WHERE type='table'\")\n",
    "# fetch the cursor above\n",
    "rows = cur.fetchall()\n",
    " \n",
    "for row in rows:\n",
    "    print(row)"
   ]
  },
  {
   "cell_type": "code",
   "execution_count": 10,
   "metadata": {},
   "outputs": [
    {
     "name": "stdout",
     "output_type": "stream",
     "text": [
      "('CREATE TABLE station (\\n\\tid INTEGER NOT NULL, \\n\\tstation TEXT, \\n\\tname TEXT, \\n\\tlatitude FLOAT, \\n\\tlongitude FLOAT, \\n\\televation FLOAT, \\n\\tPRIMARY KEY (id)\\n)',)\n"
     ]
    }
   ],
   "source": [
    "#obtain details of the schema/table format from table named station\n",
    "# execute statement via cursor\n",
    "cur.execute(\"SELECT sql FROM sqlite_master WHERE name='station'\")\n",
    "# fetch the cursor above\n",
    "rows = cur.fetchall()\n",
    "for row in rows:\n",
    "    print(row)"
   ]
  },
  {
   "cell_type": "code",
   "execution_count": 11,
   "metadata": {},
   "outputs": [
    {
     "data": {
      "text/html": [
       "<div>\n",
       "<style scoped>\n",
       "    .dataframe tbody tr th:only-of-type {\n",
       "        vertical-align: middle;\n",
       "    }\n",
       "\n",
       "    .dataframe tbody tr th {\n",
       "        vertical-align: top;\n",
       "    }\n",
       "\n",
       "    .dataframe thead th {\n",
       "        text-align: right;\n",
       "    }\n",
       "</style>\n",
       "<table border=\"1\" class=\"dataframe\">\n",
       "  <thead>\n",
       "    <tr style=\"text-align: right;\">\n",
       "      <th></th>\n",
       "      <th>id</th>\n",
       "      <th>station</th>\n",
       "      <th>name</th>\n",
       "      <th>latitude</th>\n",
       "      <th>longitude</th>\n",
       "      <th>elevation</th>\n",
       "    </tr>\n",
       "  </thead>\n",
       "  <tbody>\n",
       "    <tr>\n",
       "      <th>0</th>\n",
       "      <td>1</td>\n",
       "      <td>USC00519397</td>\n",
       "      <td>WAIKIKI 717.2, HI US</td>\n",
       "      <td>21.27160</td>\n",
       "      <td>-157.81680</td>\n",
       "      <td>3.0</td>\n",
       "    </tr>\n",
       "    <tr>\n",
       "      <th>1</th>\n",
       "      <td>2</td>\n",
       "      <td>USC00513117</td>\n",
       "      <td>KANEOHE 838.1, HI US</td>\n",
       "      <td>21.42340</td>\n",
       "      <td>-157.80150</td>\n",
       "      <td>14.6</td>\n",
       "    </tr>\n",
       "    <tr>\n",
       "      <th>2</th>\n",
       "      <td>3</td>\n",
       "      <td>USC00514830</td>\n",
       "      <td>KUALOA RANCH HEADQUARTERS 886.9, HI US</td>\n",
       "      <td>21.52130</td>\n",
       "      <td>-157.83740</td>\n",
       "      <td>7.0</td>\n",
       "    </tr>\n",
       "    <tr>\n",
       "      <th>3</th>\n",
       "      <td>4</td>\n",
       "      <td>USC00517948</td>\n",
       "      <td>PEARL CITY, HI US</td>\n",
       "      <td>21.39340</td>\n",
       "      <td>-157.97510</td>\n",
       "      <td>11.9</td>\n",
       "    </tr>\n",
       "    <tr>\n",
       "      <th>4</th>\n",
       "      <td>5</td>\n",
       "      <td>USC00518838</td>\n",
       "      <td>UPPER WAHIAWA 874.3, HI US</td>\n",
       "      <td>21.49920</td>\n",
       "      <td>-158.01110</td>\n",
       "      <td>306.6</td>\n",
       "    </tr>\n",
       "    <tr>\n",
       "      <th>5</th>\n",
       "      <td>6</td>\n",
       "      <td>USC00519523</td>\n",
       "      <td>WAIMANALO EXPERIMENTAL FARM, HI US</td>\n",
       "      <td>21.33556</td>\n",
       "      <td>-157.71139</td>\n",
       "      <td>19.5</td>\n",
       "    </tr>\n",
       "    <tr>\n",
       "      <th>6</th>\n",
       "      <td>7</td>\n",
       "      <td>USC00519281</td>\n",
       "      <td>WAIHEE 837.5, HI US</td>\n",
       "      <td>21.45167</td>\n",
       "      <td>-157.84889</td>\n",
       "      <td>32.9</td>\n",
       "    </tr>\n",
       "    <tr>\n",
       "      <th>7</th>\n",
       "      <td>8</td>\n",
       "      <td>USC00511918</td>\n",
       "      <td>HONOLULU OBSERVATORY 702.2, HI US</td>\n",
       "      <td>21.31520</td>\n",
       "      <td>-157.99920</td>\n",
       "      <td>0.9</td>\n",
       "    </tr>\n",
       "    <tr>\n",
       "      <th>8</th>\n",
       "      <td>9</td>\n",
       "      <td>USC00516128</td>\n",
       "      <td>MANOA LYON ARBO 785.2, HI US</td>\n",
       "      <td>21.33310</td>\n",
       "      <td>-157.80250</td>\n",
       "      <td>152.4</td>\n",
       "    </tr>\n",
       "  </tbody>\n",
       "</table>\n",
       "</div>"
      ],
      "text/plain": [
       "   id      station                                    name  latitude  \\\n",
       "0   1  USC00519397                    WAIKIKI 717.2, HI US  21.27160   \n",
       "1   2  USC00513117                    KANEOHE 838.1, HI US  21.42340   \n",
       "2   3  USC00514830  KUALOA RANCH HEADQUARTERS 886.9, HI US  21.52130   \n",
       "3   4  USC00517948                       PEARL CITY, HI US  21.39340   \n",
       "4   5  USC00518838              UPPER WAHIAWA 874.3, HI US  21.49920   \n",
       "5   6  USC00519523      WAIMANALO EXPERIMENTAL FARM, HI US  21.33556   \n",
       "6   7  USC00519281                     WAIHEE 837.5, HI US  21.45167   \n",
       "7   8  USC00511918       HONOLULU OBSERVATORY 702.2, HI US  21.31520   \n",
       "8   9  USC00516128            MANOA LYON ARBO 785.2, HI US  21.33310   \n",
       "\n",
       "   longitude  elevation  \n",
       "0 -157.81680        3.0  \n",
       "1 -157.80150       14.6  \n",
       "2 -157.83740        7.0  \n",
       "3 -157.97510       11.9  \n",
       "4 -158.01110      306.6  \n",
       "5 -157.71139       19.5  \n",
       "6 -157.84889       32.9  \n",
       "7 -157.99920        0.9  \n",
       "8 -157.80250      152.4  "
      ]
     },
     "execution_count": 11,
     "metadata": {},
     "output_type": "execute_result"
    }
   ],
   "source": [
    "# execute statement via cursor-print rows of table named station\n",
    "sqlstate = \"select * from station\"\n",
    "cur.execute(sqlstate )\n",
    "# fetch the cursor above\n",
    "rows = cur.fetchall()\n",
    "#create list to save each column\n",
    "id_ls = []\n",
    "station_ls = []\n",
    "name_ls = []\n",
    "latitude_ls = []\n",
    "longitude_ls = []\n",
    "elevation_ls = []\n",
    "#print all results\n",
    "for row in rows:\n",
    "    id_ls.append(row[0])\n",
    "    station_ls.append(row[1])\n",
    "    name_ls.append(row[2])\n",
    "    latitude_ls.append(row[3])\n",
    "    longitude_ls.append(row[4])\n",
    "    elevation_ls.append(row[5])\n",
    "\n",
    "stationdata = dict()\n",
    "stationdata['id'] =id_ls\n",
    "stationdata['station'] =station_ls\n",
    "stationdata['name'] =name_ls\n",
    "stationdata['latitude'] =latitude_ls\n",
    "stationdata['longitude'] =longitude_ls\n",
    "stationdata['elevation'] =elevation_ls\n",
    "station_df = pd.DataFrame(stationdata)\n",
    "station_df"
   ]
  },
  {
   "cell_type": "code",
   "execution_count": 12,
   "metadata": {},
   "outputs": [
    {
     "name": "stdout",
     "output_type": "stream",
     "text": [
      "('CREATE TABLE measurement (\\n\\tid INTEGER NOT NULL, \\n\\tstation TEXT, \\n\\tdate TEXT, \\n\\tprcp FLOAT, \\n\\ttobs FLOAT, \\n\\tPRIMARY KEY (id)\\n)',)\n"
     ]
    }
   ],
   "source": [
    "#obtain details of the schema/table format from table named measurement\n",
    "# execute statement via cursor\n",
    "cur.execute(\"SELECT sql FROM sqlite_master WHERE name='measurement'\")\n",
    "# fetch the cursor above\n",
    "rows = cur.fetchall()\n",
    "for row in rows:\n",
    "    print(row)\n"
   ]
  },
  {
   "cell_type": "markdown",
   "metadata": {},
   "source": [
    "#### Choose a start date and end date for your trip. Make sure that your vacation range is approximately 3-15 days total."
   ]
  },
  {
   "cell_type": "code",
   "execution_count": 13,
   "metadata": {},
   "outputs": [
    {
     "data": {
      "text/html": [
       "<div>\n",
       "<style scoped>\n",
       "    .dataframe tbody tr th:only-of-type {\n",
       "        vertical-align: middle;\n",
       "    }\n",
       "\n",
       "    .dataframe tbody tr th {\n",
       "        vertical-align: top;\n",
       "    }\n",
       "\n",
       "    .dataframe thead th {\n",
       "        text-align: right;\n",
       "    }\n",
       "</style>\n",
       "<table border=\"1\" class=\"dataframe\">\n",
       "  <thead>\n",
       "    <tr style=\"text-align: right;\">\n",
       "      <th></th>\n",
       "      <th>id</th>\n",
       "      <th>station</th>\n",
       "      <th>date</th>\n",
       "      <th>prcp</th>\n",
       "      <th>tobs</th>\n",
       "    </tr>\n",
       "  </thead>\n",
       "  <tbody>\n",
       "    <tr>\n",
       "      <th>0</th>\n",
       "      <td>2674</td>\n",
       "      <td>USC00519397</td>\n",
       "      <td>2017-07-01</td>\n",
       "      <td>0.02</td>\n",
       "      <td>80.0</td>\n",
       "    </tr>\n",
       "    <tr>\n",
       "      <th>1</th>\n",
       "      <td>2675</td>\n",
       "      <td>USC00519397</td>\n",
       "      <td>2017-07-02</td>\n",
       "      <td>0.02</td>\n",
       "      <td>80.0</td>\n",
       "    </tr>\n",
       "    <tr>\n",
       "      <th>2</th>\n",
       "      <td>2676</td>\n",
       "      <td>USC00519397</td>\n",
       "      <td>2017-07-03</td>\n",
       "      <td>0.04</td>\n",
       "      <td>78.0</td>\n",
       "    </tr>\n",
       "    <tr>\n",
       "      <th>3</th>\n",
       "      <td>2677</td>\n",
       "      <td>USC00519397</td>\n",
       "      <td>2017-07-04</td>\n",
       "      <td>0.04</td>\n",
       "      <td>80.0</td>\n",
       "    </tr>\n",
       "    <tr>\n",
       "      <th>4</th>\n",
       "      <td>2678</td>\n",
       "      <td>USC00519397</td>\n",
       "      <td>2017-07-05</td>\n",
       "      <td>0.00</td>\n",
       "      <td>80.0</td>\n",
       "    </tr>\n",
       "  </tbody>\n",
       "</table>\n",
       "</div>"
      ],
      "text/plain": [
       "     id      station        date  prcp  tobs\n",
       "0  2674  USC00519397  2017-07-01  0.02  80.0\n",
       "1  2675  USC00519397  2017-07-02  0.02  80.0\n",
       "2  2676  USC00519397  2017-07-03  0.04  78.0\n",
       "3  2677  USC00519397  2017-07-04  0.04  80.0\n",
       "4  2678  USC00519397  2017-07-05  0.00  80.0"
      ]
     },
     "execution_count": 13,
     "metadata": {},
     "output_type": "execute_result"
    }
   ],
   "source": [
    "# execute statement via cursor-print rows of table named measurement\n",
    "\n",
    "# sqlstate = \"select * from measurement\"\n",
    "sqlstate = \"select * from measurement where date between '2017-07-01' and '2017-07-10' \"\n",
    "cur.execute(sqlstate )\n",
    "# fetch the cursor above\n",
    "rows = cur.fetchall()\n",
    "#create list to save each column\n",
    "id_ls = []\n",
    "station_ls = []\n",
    "date_ls = []\n",
    "prcp_ls = []\n",
    "tobs_ls = []\n",
    "    \n",
    "# print all results\n",
    "for row in rows:\n",
    "#     print(row)\n",
    "    id_ls.append(row[0])\n",
    "    station_ls.append(row[1])\n",
    "    date_ls.append(row[2])\n",
    "    prcp_ls.append(row[3])\n",
    "    tobs_ls.append(row[4])\n",
    "\n",
    "msrdata = dict()\n",
    "msrdata['id']=id_ls\n",
    "msrdata['station']=station_ls\n",
    "msrdata['date']=date_ls\n",
    "msrdata['prcp']=prcp_ls\n",
    "msrdata['tobs']=tobs_ls\n",
    "msr_df = pd.DataFrame(msrdata)\n",
    "msr_df.head()\n"
   ]
  },
  {
   "cell_type": "markdown",
   "metadata": {},
   "source": [
    "# Precipitation Analysis"
   ]
  },
  {
   "cell_type": "code",
   "execution_count": 14,
   "metadata": {},
   "outputs": [
    {
     "name": "stdout",
     "output_type": "stream",
     "text": [
      "2017-08-23\n",
      "2016-08-23\n"
     ]
    }
   ],
   "source": [
    "# execute statement via cursor-print rows of table named measurement\n",
    "# Design a query to retrieve the last 12 months of precipitation data and plot the results\n",
    "# find the last date\n",
    "\n",
    "sqlstate = \"select date from measurement order by date desc limit 1\"\n",
    "cur.execute(sqlstate )\n",
    "# fetch the cursor above\n",
    "rows = cur.fetchall()\n",
    "for row in rows:\n",
    "    last_date_str = row[0]\n",
    "    last_date_dt = datetime.date(*(int(s) for s in last_date_str.split('-')))\n",
    "    first_date_dt = last_date_dt - datetime.timedelta(days=365)\n",
    "    first_date_str = str(first_date_dt)\n",
    "print(last_date_str)\n",
    "print(first_date_str)"
   ]
  },
  {
   "cell_type": "code",
   "execution_count": 15,
   "metadata": {},
   "outputs": [],
   "source": [
    "# execute statement via cursor-print rows of table named measurement\n",
    "sqlstate = \"select date,prcp from measurement where date between '\"+first_date_str+\"' and '\"+last_date_str+\"' order by date\"\n",
    "\n",
    "cur.execute(sqlstate )\n",
    "# fetch the cursor above\n",
    "rows = cur.fetchall()\n",
    "#create list to save each column\n",
    "date_ls = []\n",
    "prcp_ls = []\n",
    "    \n",
    "# print all results\n",
    "for row in rows:\n",
    "    date_ls.append(row[0])\n",
    "    prcp_ls.append(row[1])\n",
    "\n",
    "\n",
    "msrdata_12month = dict()\n",
    "\n",
    "msrdata_12month['date']=date_ls\n",
    "msrdata_12month['prcp']=prcp_ls\n",
    "\n",
    "msr_12month_df = pd.DataFrame(msrdata_12month)\n",
    "\n",
    "# msr_12month_df = msr_12month_df.groupby([\"date\"]).sum()"
   ]
  },
  {
   "cell_type": "code",
   "execution_count": 16,
   "metadata": {},
   "outputs": [
    {
     "data": {
      "text/html": [
       "<div>\n",
       "<style scoped>\n",
       "    .dataframe tbody tr th:only-of-type {\n",
       "        vertical-align: middle;\n",
       "    }\n",
       "\n",
       "    .dataframe tbody tr th {\n",
       "        vertical-align: top;\n",
       "    }\n",
       "\n",
       "    .dataframe thead th {\n",
       "        text-align: right;\n",
       "    }\n",
       "</style>\n",
       "<table border=\"1\" class=\"dataframe\">\n",
       "  <thead>\n",
       "    <tr style=\"text-align: right;\">\n",
       "      <th></th>\n",
       "      <th>date</th>\n",
       "      <th>prcp</th>\n",
       "    </tr>\n",
       "  </thead>\n",
       "  <tbody>\n",
       "    <tr>\n",
       "      <th>0</th>\n",
       "      <td>2016-08-23</td>\n",
       "      <td>0.00</td>\n",
       "    </tr>\n",
       "    <tr>\n",
       "      <th>1</th>\n",
       "      <td>2016-08-23</td>\n",
       "      <td>0.15</td>\n",
       "    </tr>\n",
       "    <tr>\n",
       "      <th>2</th>\n",
       "      <td>2016-08-23</td>\n",
       "      <td>0.05</td>\n",
       "    </tr>\n",
       "    <tr>\n",
       "      <th>4</th>\n",
       "      <td>2016-08-23</td>\n",
       "      <td>0.02</td>\n",
       "    </tr>\n",
       "    <tr>\n",
       "      <th>5</th>\n",
       "      <td>2016-08-23</td>\n",
       "      <td>1.79</td>\n",
       "    </tr>\n",
       "  </tbody>\n",
       "</table>\n",
       "</div>"
      ],
      "text/plain": [
       "         date  prcp\n",
       "0  2016-08-23  0.00\n",
       "1  2016-08-23  0.15\n",
       "2  2016-08-23  0.05\n",
       "4  2016-08-23  0.02\n",
       "5  2016-08-23  1.79"
      ]
     },
     "execution_count": 16,
     "metadata": {},
     "output_type": "execute_result"
    }
   ],
   "source": [
    "msr_12month_df.dropna(subset=['prcp'], inplace=True)\n",
    "msr_12month_df.head()"
   ]
  },
  {
   "cell_type": "code",
   "execution_count": 17,
   "metadata": {},
   "outputs": [
    {
     "data": {
      "text/plain": [
       "2021"
      ]
     },
     "execution_count": 17,
     "metadata": {},
     "output_type": "execute_result"
    }
   ],
   "source": [
    "len(msr_12month_df)"
   ]
  },
  {
   "cell_type": "code",
   "execution_count": 18,
   "metadata": {},
   "outputs": [
    {
     "data": {
      "text/html": [
       "<div>\n",
       "<style scoped>\n",
       "    .dataframe tbody tr th:only-of-type {\n",
       "        vertical-align: middle;\n",
       "    }\n",
       "\n",
       "    .dataframe tbody tr th {\n",
       "        vertical-align: top;\n",
       "    }\n",
       "\n",
       "    .dataframe thead th {\n",
       "        text-align: right;\n",
       "    }\n",
       "</style>\n",
       "<table border=\"1\" class=\"dataframe\">\n",
       "  <thead>\n",
       "    <tr style=\"text-align: right;\">\n",
       "      <th></th>\n",
       "      <th>prcp</th>\n",
       "    </tr>\n",
       "  </thead>\n",
       "  <tbody>\n",
       "    <tr>\n",
       "      <th>count</th>\n",
       "      <td>2021.000000</td>\n",
       "    </tr>\n",
       "    <tr>\n",
       "      <th>mean</th>\n",
       "      <td>0.177279</td>\n",
       "    </tr>\n",
       "    <tr>\n",
       "      <th>std</th>\n",
       "      <td>0.461190</td>\n",
       "    </tr>\n",
       "    <tr>\n",
       "      <th>min</th>\n",
       "      <td>0.000000</td>\n",
       "    </tr>\n",
       "    <tr>\n",
       "      <th>25%</th>\n",
       "      <td>0.000000</td>\n",
       "    </tr>\n",
       "    <tr>\n",
       "      <th>50%</th>\n",
       "      <td>0.020000</td>\n",
       "    </tr>\n",
       "    <tr>\n",
       "      <th>75%</th>\n",
       "      <td>0.130000</td>\n",
       "    </tr>\n",
       "    <tr>\n",
       "      <th>max</th>\n",
       "      <td>6.700000</td>\n",
       "    </tr>\n",
       "  </tbody>\n",
       "</table>\n",
       "</div>"
      ],
      "text/plain": [
       "              prcp\n",
       "count  2021.000000\n",
       "mean      0.177279\n",
       "std       0.461190\n",
       "min       0.000000\n",
       "25%       0.000000\n",
       "50%       0.020000\n",
       "75%       0.130000\n",
       "max       6.700000"
      ]
     },
     "execution_count": 18,
     "metadata": {},
     "output_type": "execute_result"
    }
   ],
   "source": [
    "# Use Pandas to calcualte the summary statistics for the precipitation data\n",
    "msr_12month_df.describe()"
   ]
  },
  {
   "cell_type": "code",
   "execution_count": 19,
   "metadata": {},
   "outputs": [
    {
     "data": {
      "text/plain": [
       "<matplotlib.legend.Legend at 0x258e5904240>"
      ]
     },
     "execution_count": 19,
     "metadata": {},
     "output_type": "execute_result"
    },
    {
     "data": {
      "image/png": "[encoded data removed]",
      "text/plain": [
       "<Figure size 432x288 with 1 Axes>"
      ]
     },
     "metadata": {
      "needs_background": "light"
     },
     "output_type": "display_data"
    }
   ],
   "source": [
    "plt.plot(msr_12month_df.date, msr_12month_df.prcp, label=\"precipitation\")\n",
    "# remove ticks\n",
    "tick_locations = []\n",
    "plt.xticks(tick_locations)\n",
    "plt.title(\"Precipitation of Latest 12 Months\")\n",
    "plt.xlabel(\"date\")\n",
    "plt.legend(loc=\"upper right\")"
   ]
  },
  {
   "cell_type": "markdown",
   "metadata": {},
   "source": [
    "# Station Analysis"
   ]
  },
  {
   "cell_type": "markdown",
   "metadata": {},
   "source": [
    "##### Design a query to show how many stations are available in this dataset?"
   ]
  },
  {
   "cell_type": "code",
   "execution_count": 20,
   "metadata": {},
   "outputs": [
    {
     "name": "stdout",
     "output_type": "stream",
     "text": [
      "9\n"
     ]
    }
   ],
   "source": [
    "# execute statement via cursor-print rows of table named station\n",
    "sqlstate = \"select count(*) from station\"\n",
    "cur.execute(sqlstate )\n",
    "# fetch the cursor above\n",
    "rows = cur.fetchall()\n",
    "for row in rows:\n",
    "    number_ls = rows[0]\n",
    "number_station = number_ls[0]\n",
    "print(number_station)\n"
   ]
  },
  {
   "cell_type": "markdown",
   "metadata": {},
   "source": [
    "### What are the most active stations? (i.e. what stations have the most rows)?\n",
    "##### List the stations and the counts in descending order."
   ]
  },
  {
   "cell_type": "code",
   "execution_count": 21,
   "metadata": {},
   "outputs": [
    {
     "data": {
      "text/html": [
       "<div>\n",
       "<style scoped>\n",
       "    .dataframe tbody tr th:only-of-type {\n",
       "        vertical-align: middle;\n",
       "    }\n",
       "\n",
       "    .dataframe tbody tr th {\n",
       "        vertical-align: top;\n",
       "    }\n",
       "\n",
       "    .dataframe thead th {\n",
       "        text-align: right;\n",
       "    }\n",
       "</style>\n",
       "<table border=\"1\" class=\"dataframe\">\n",
       "  <thead>\n",
       "    <tr style=\"text-align: right;\">\n",
       "      <th></th>\n",
       "      <th>id</th>\n",
       "      <th>station</th>\n",
       "      <th>date</th>\n",
       "      <th>prcp</th>\n",
       "      <th>tobs</th>\n",
       "    </tr>\n",
       "  </thead>\n",
       "  <tbody>\n",
       "    <tr>\n",
       "      <th>0</th>\n",
       "      <td>1</td>\n",
       "      <td>USC00519397</td>\n",
       "      <td>2010-01-01</td>\n",
       "      <td>0.08</td>\n",
       "      <td>65.0</td>\n",
       "    </tr>\n",
       "    <tr>\n",
       "      <th>1</th>\n",
       "      <td>2</td>\n",
       "      <td>USC00519397</td>\n",
       "      <td>2010-01-02</td>\n",
       "      <td>0.00</td>\n",
       "      <td>63.0</td>\n",
       "    </tr>\n",
       "    <tr>\n",
       "      <th>2</th>\n",
       "      <td>3</td>\n",
       "      <td>USC00519397</td>\n",
       "      <td>2010-01-03</td>\n",
       "      <td>0.00</td>\n",
       "      <td>74.0</td>\n",
       "    </tr>\n",
       "    <tr>\n",
       "      <th>3</th>\n",
       "      <td>4</td>\n",
       "      <td>USC00519397</td>\n",
       "      <td>2010-01-04</td>\n",
       "      <td>0.00</td>\n",
       "      <td>76.0</td>\n",
       "    </tr>\n",
       "    <tr>\n",
       "      <th>4</th>\n",
       "      <td>5</td>\n",
       "      <td>USC00519397</td>\n",
       "      <td>2010-01-06</td>\n",
       "      <td>NaN</td>\n",
       "      <td>73.0</td>\n",
       "    </tr>\n",
       "  </tbody>\n",
       "</table>\n",
       "</div>"
      ],
      "text/plain": [
       "   id      station        date  prcp  tobs\n",
       "0   1  USC00519397  2010-01-01  0.08  65.0\n",
       "1   2  USC00519397  2010-01-02  0.00  63.0\n",
       "2   3  USC00519397  2010-01-03  0.00  74.0\n",
       "3   4  USC00519397  2010-01-04  0.00  76.0\n",
       "4   5  USC00519397  2010-01-06   NaN  73.0"
      ]
     },
     "execution_count": 21,
     "metadata": {},
     "output_type": "execute_result"
    }
   ],
   "source": [
    "# execute statement via cursor-print rows of table named measurement\n",
    "sqlstate= \"select * from measurement\"\n",
    "cur.execute(sqlstate)\n",
    "# fetch the cursor above\n",
    "rows = cur.fetchall()\n",
    "#create list to save each column\n",
    "id_total_ls = []\n",
    "station_total_ls = []\n",
    "date_total_ls = []\n",
    "prcp_total_ls = []\n",
    "tobs_total_ls = []\n",
    "    \n",
    "# print all results\n",
    "for row in rows:\n",
    "#     print(row)\n",
    "    id_total_ls.append(row[0])\n",
    "    station_total_ls.append(row[1])\n",
    "    date_total_ls.append(row[2])\n",
    "    prcp_total_ls.append(row[3])\n",
    "    tobs_total_ls.append(row[4])\n",
    "\n",
    "msrdata_total = dict()\n",
    "msrdata_total['id']=id_total_ls\n",
    "msrdata_total['station']=station_total_ls\n",
    "msrdata_total['date']=date_total_ls\n",
    "msrdata_total['prcp']=prcp_total_ls\n",
    "msrdata_total['tobs']=tobs_total_ls\n",
    "msr_total_df = pd.DataFrame(msrdata_total)\n",
    "msr_total_df.head()\n"
   ]
  },
  {
   "cell_type": "code",
   "execution_count": 22,
   "metadata": {},
   "outputs": [
    {
     "data": {
      "text/html": [
       "<div>\n",
       "<style scoped>\n",
       "    .dataframe tbody tr th:only-of-type {\n",
       "        vertical-align: middle;\n",
       "    }\n",
       "\n",
       "    .dataframe tbody tr th {\n",
       "        vertical-align: top;\n",
       "    }\n",
       "\n",
       "    .dataframe thead th {\n",
       "        text-align: right;\n",
       "    }\n",
       "</style>\n",
       "<table border=\"1\" class=\"dataframe\">\n",
       "  <thead>\n",
       "    <tr style=\"text-align: right;\">\n",
       "      <th></th>\n",
       "      <th>Number of Observation</th>\n",
       "    </tr>\n",
       "  </thead>\n",
       "  <tbody>\n",
       "    <tr>\n",
       "      <th>USC00519281</th>\n",
       "      <td>2772</td>\n",
       "    </tr>\n",
       "    <tr>\n",
       "      <th>USC00519397</th>\n",
       "      <td>2724</td>\n",
       "    </tr>\n",
       "    <tr>\n",
       "      <th>USC00513117</th>\n",
       "      <td>2709</td>\n",
       "    </tr>\n",
       "    <tr>\n",
       "      <th>USC00519523</th>\n",
       "      <td>2669</td>\n",
       "    </tr>\n",
       "    <tr>\n",
       "      <th>USC00516128</th>\n",
       "      <td>2612</td>\n",
       "    </tr>\n",
       "    <tr>\n",
       "      <th>USC00514830</th>\n",
       "      <td>2202</td>\n",
       "    </tr>\n",
       "    <tr>\n",
       "      <th>USC00511918</th>\n",
       "      <td>1979</td>\n",
       "    </tr>\n",
       "    <tr>\n",
       "      <th>USC00517948</th>\n",
       "      <td>1372</td>\n",
       "    </tr>\n",
       "    <tr>\n",
       "      <th>USC00518838</th>\n",
       "      <td>511</td>\n",
       "    </tr>\n",
       "  </tbody>\n",
       "</table>\n",
       "</div>"
      ],
      "text/plain": [
       "             Number of Observation\n",
       "USC00519281                   2772\n",
       "USC00519397                   2724\n",
       "USC00513117                   2709\n",
       "USC00519523                   2669\n",
       "USC00516128                   2612\n",
       "USC00514830                   2202\n",
       "USC00511918                   1979\n",
       "USC00517948                   1372\n",
       "USC00518838                    511"
      ]
     },
     "execution_count": 22,
     "metadata": {},
     "output_type": "execute_result"
    }
   ],
   "source": [
    "station_observation_df = pd.DataFrame(msr_total_df['station'].value_counts()).rename(columns = {\"station\":\"Number of Observation\"})\n",
    "station_observation_df = station_observation_df.sort_values(by=[\"Number of Observation\"],ascending=False)\n",
    "station_observation_df"
   ]
  },
  {
   "cell_type": "markdown",
   "metadata": {},
   "source": [
    "### Using the station id from the previous query, calculate the lowest temperature recorded, \n",
    "##### highest temperature recorded, and average temperature most active station?\n"
   ]
  },
  {
   "cell_type": "code",
   "execution_count": 23,
   "metadata": {},
   "outputs": [
    {
     "name": "stdout",
     "output_type": "stream",
     "text": [
      "(53.0, 87.0, 73.09795396419437)\n"
     ]
    }
   ],
   "source": [
    "# execute statement via cursor-print rows of table named measurement\n",
    "sqlstate= \"select min(tobs),max(tobs),avg(tobs) from measurement\"\n",
    "cur.execute(sqlstate)\n",
    "# fetch the cursor above\n",
    "rows = cur.fetchall()\n",
    "#create list to save each column\n",
    "for row in rows:\n",
    "    print(row)"
   ]
  },
  {
   "cell_type": "markdown",
   "metadata": {},
   "source": [
    "##### Choose the station with the highest number of temperature observations.\n",
    "##### Query the last 12 months of temperature observation data for this station and plot the results as a histogram\n"
   ]
  },
  {
   "cell_type": "code",
   "execution_count": 24,
   "metadata": {},
   "outputs": [],
   "source": [
    "# define the most active station name\n",
    "active_station = station_observation_df.index[0]\n",
    "\n",
    "# execute statement via cursor-print rows of table named measurement\n",
    "sqlstate = \"select tobs from measurement where date between '\"+first_date_str+\"' and '\"+last_date_str+\"' and station= '\"+active_station+\"'\"\n",
    "\n",
    "cur.execute(sqlstate )\n",
    "# fetch the cursor above\n",
    "rows = cur.fetchall()\n",
    "\n",
    "#create list to save each column\n",
    "tobs_ls = []\n",
    "    \n",
    "# print all results\n",
    "for row in rows:\n",
    "    tobs_ls.append(row[0])\n",
    "\n",
    "active_station_list = dict()\n",
    "active_station_list['tobs']=tobs_ls\n",
    "active_station_df = pd.DataFrame(active_station_list)"
   ]
  },
  {
   "cell_type": "code",
   "execution_count": 25,
   "metadata": {},
   "outputs": [
    {
     "data": {
      "text/plain": [
       "<matplotlib.axes._subplots.AxesSubplot at 0x258e596b400>"
      ]
     },
     "execution_count": 25,
     "metadata": {},
     "output_type": "execute_result"
    },
    {
     "data": {
      "image/png": "[encoded data removed]",
      "text/plain": [
       "<Figure size 432x288 with 1 Axes>"
      ]
     },
     "metadata": {
      "needs_background": "light"
     },
     "output_type": "display_data"
    }
   ],
   "source": [
    "active_station_df.plot.hist(bins=12)"
   ]
  },
  {
   "cell_type": "markdown",
   "metadata": {},
   "source": [
    "# Step 2 - Climate App"
   ]
  },
  {
   "cell_type": "markdown",
   "metadata": {},
   "source": [
    "### Check the Climate App in the python file."
   ]
  },
  {
   "cell_type": "code",
   "execution_count": 26,
   "metadata": {},
   "outputs": [
    {
     "name": "stdout",
     "output_type": "stream",
     "text": [
      "(62.0, 69.57142857142857, 74.0)\n"
     ]
    }
   ],
   "source": [
    "# This function called `calc_temps` will accept start date and end date in the format '%Y-%m-%d' \n",
    "# and return the minimum, average, and maximum temperatures for that range of dates\n",
    "def calc_temps(start_date, end_date):\n",
    "    \"\"\"TMIN, TAVG, and TMAX for a list of dates.\n",
    "    \n",
    "    Args:\n",
    "        start_date (string): A date string in the format %Y-%m-%d\n",
    "        end_date (string): A date string in the format %Y-%m-%d\n",
    "        \n",
    "    Returns:\n",
    "        TMIN, TAVE, and TMAX\n",
    "    \"\"\"\n",
    "    import sqlite3\n",
    "    #create connection with hawaii database\n",
    "    conn = sqlite3.connect(\"Resources/hawaii.sqlite\")\n",
    "    #obtain a cursor - something to loop through via database connection\n",
    "    cur = conn.cursor()\n",
    "#     start_date ='2012-02-28'\n",
    "#     end_date='2012-03-05'\n",
    "    # execute statement via cursor-print rows of table named measurement\n",
    "    sqlstate = \"select * from measurement where date between '\"+start_date+\"' and '\"+end_date+\"' order by date\"\n",
    "\n",
    "    cur.execute(sqlstate )\n",
    "    # fetch the cursor above\n",
    "    rows = cur.fetchall()\n",
    "    #create list to save each column\n",
    "    id_ls = []\n",
    "    station_ls = []\n",
    "    date_ls = []\n",
    "    prcp_ls = []\n",
    "    tobs_ls = []\n",
    "\n",
    "    # print all results\n",
    "    for row in rows:\n",
    "    #     print(row)\n",
    "        id_ls.append(row[0])\n",
    "        station_ls.append(row[1])\n",
    "        date_ls.append(row[2])\n",
    "        prcp_ls.append(row[3])\n",
    "        tobs_ls.append(row[4])\n",
    "\n",
    "    msrment = dict()\n",
    "    msrment['id']=id_ls\n",
    "    msrment['station']=station_ls\n",
    "    msrment['date']=date_ls\n",
    "    msrment['prcp']=prcp_ls\n",
    "    msrment['tobs']=tobs_ls\n",
    "    msrment_df= pd.DataFrame(msrment)\n",
    "    \n",
    "    return (msrment_df[\"tobs\"].min(),  msrment_df[\"tobs\"].mean(), msrment_df[\"tobs\"].max())\n",
    "\n",
    "# function usage example\n",
    "print(calc_temps('2012-02-28', '2012-03-05'))"
   ]
  },
  {
   "cell_type": "code",
   "execution_count": 27,
   "metadata": {},
   "outputs": [
    {
     "name": "stdout",
     "output_type": "stream",
     "text": [
      "(69.0, 78.15254237288136, 87.0)\n"
     ]
    }
   ],
   "source": [
    "# Use your previous function `calc_temps` to calculate the tmin, tavg, and tmax \n",
    "# for your trip using the previous year's data for those same dates.\n",
    "print(calc_temps('2017-07-01', '2017-07-10'))\n"
   ]
  },
  {
   "cell_type": "markdown",
   "metadata": {},
   "source": [
    "# Optional: Other Recommended Analyses (Skip)"
   ]
  }
 ],
 "metadata": {
  "kernel_info": {
   "name": "python3"
  },
  "kernelspec": {
   "display_name": "Python 3",
   "language": "python",
   "name": "python3"
  },
  "language_info": {
   "codemirror_mode": {
    "name": "ipython",
    "version": 3
   },
   "file_extension": ".py",
   "mimetype": "text/x-python",
   "name": "python",
   "nbconvert_exporter": "python",
   "pygments_lexer": "ipython3",
   "version": "3.7.1"
  },
  "nteract": {
   "version": "0.12.3"
  },
  "varInspector": {
   "cols": {
    "lenName": 16,
    "lenType": 16,
    "lenVar": 40
   },
   "kernels_config": {
    "python": {
     "delete_cmd_postfix": "",
     "delete_cmd_prefix": "del ",
     "library": "var_list.py",
     "varRefreshCmd": "print(var_dic_list())"
    },
    "r": {
     "delete_cmd_postfix": ") ",
     "delete_cmd_prefix": "rm(",
     "library": "var_list.r",
     "varRefreshCmd": "cat(var_dic_list()) "
    }
   },
   "types_to_exclude": [
    "module",
    "function",
    "builtin_function_or_method",
    "instance",
    "_Feature"
   ],
   "window_display": false
  }
 },
 "nbformat": 4,
 "nbformat_minor": 2
}
